{
 "cells": [
  {
   "cell_type": "markdown",
   "metadata": {},
   "source": [
    "# *Olympic Games Data: Cleaning, Analysis, and Visualization*\n",
    "\n",
    "### `Name & Surname: Abdulkadir Arslan`\n"
   ]
  },
  {
   "cell_type": "markdown",
   "metadata": {},
   "source": [
    "# **Table of Contents**\n",
    "\n",
    "### **1.Data Preparation & Manipulation**"
   ]
  },
  {
   "cell_type": "markdown",
   "metadata": {},
   "source": [
    "### 1.1 Reading Datasets & Craeting DataFrames\n",
    ". Datasets:\n",
    "- athletes.txt\n",
    "- games.tsv\n",
    "- results.csv"
   ]
  },
  {
   "cell_type": "markdown",
   "metadata": {},
   "source": [
    "### 1.2 Studying, Checking & Understanding The Datasets/DataFrames"
   ]
  },
  {
   "cell_type": "markdown",
   "metadata": {},
   "source": [
    "###### Note: I studied and checked the datasets's files also before converting them to a dataframe."
   ]
  },
  {
   "cell_type": "markdown",
   "metadata": {},
   "source": [
    "##### 1.2.1 \"athletes\" dataframe overview"
   ]
  },
  {
   "cell_type": "markdown",
   "metadata": {},
   "source": [
    "##### 1.2.2 \"games\" dataframe overview"
   ]
  },
  {
   "cell_type": "markdown",
   "metadata": {},
   "source": [
    "##### 1.2.3 \"results\" dataframe overview"
   ]
  },
  {
   "cell_type": "markdown",
   "metadata": {},
   "source": [
    "# 1.3 Consolidating & Merging DataFrames"
   ]
  },
  {
   "cell_type": "markdown",
   "metadata": {},
   "source": [
    "##### 1.3.1 merging athletes and results dataframes\n",
    "- The merged dataframe overview"
   ]
  },
  {
   "cell_type": "markdown",
   "metadata": {},
   "source": [
    "##### 1.3.2 merging merge_res_ath and games dataframes and creating the final dataframe"
   ]
  },
  {
   "cell_type": "markdown",
   "metadata": {},
   "source": [
    "- The merged dataframe overview"
   ]
  },
  {
   "cell_type": "markdown",
   "metadata": {},
   "source": [
    "### **2.Answers**"
   ]
  },
  {
   "cell_type": "markdown",
   "metadata": {},
   "source": [
    "###### Note: The comments/descriptions of the codes are for the codes that are placed just under them, unless told otherwise!"
   ]
  },
  {
   "cell_type": "markdown",
   "metadata": {},
   "source": [
    "#### 2.1 Exercise1"
   ]
  },
  {
   "cell_type": "markdown",
   "metadata": {},
   "source": [
    "- Answer1.1\n",
    "- Answer1.2\n",
    "- Answer1.3"
   ]
  },
  {
   "cell_type": "markdown",
   "metadata": {},
   "source": [
    "#### 2.2 Exercise2"
   ]
  },
  {
   "cell_type": "markdown",
   "metadata": {},
   "source": [
    "- Answer2.1\n",
    "- Answer2.2\n",
    "- Answer2.3\n",
    "- Answer2.4"
   ]
  },
  {
   "cell_type": "markdown",
   "metadata": {},
   "source": [
    "#### 2.3 Exercise3"
   ]
  },
  {
   "cell_type": "markdown",
   "metadata": {},
   "source": [
    "- Answer3.1\n",
    "- Answer3.2"
   ]
  },
  {
   "cell_type": "markdown",
   "metadata": {},
   "source": [
    "#### 2.4 Exercise4"
   ]
  },
  {
   "cell_type": "markdown",
   "metadata": {},
   "source": [
    "- Answer4"
   ]
  },
  {
   "cell_type": "markdown",
   "metadata": {},
   "source": [
    "#### 2.5 Exercise5"
   ]
  },
  {
   "cell_type": "markdown",
   "metadata": {},
   "source": [
    "- Answer5"
   ]
  },
  {
   "cell_type": "markdown",
   "metadata": {},
   "source": [
    "### **1.Data Preparation & Manipulation**"
   ]
  },
  {
   "cell_type": "markdown",
   "metadata": {},
   "source": [
    "I collected the data from datasets, created dataframes, and consolidated them in this step. "
   ]
  },
  {
   "cell_type": "code",
   "execution_count": 294,
   "metadata": {},
   "outputs": [],
   "source": [
    "from IPython.core.interactiveshell import InteractiveShell\n",
    "import pandas as pd\n",
    "\n",
    "# I did not want to see the warnings because it does not look appealing so imported a module.\n",
    "import warnings\n",
    "warnings.filterwarnings('ignore')\n",
    "\n",
    "# To display full output in Jupyter, not only the last result of a code cell\n",
    "InteractiveShell.ast_node_interactivity = \"all\""
   ]
  },
  {
   "cell_type": "markdown",
   "metadata": {},
   "source": [
    "#### 1.1 Reading Datasets & Craeting DataFrames"
   ]
  },
  {
   "cell_type": "code",
   "execution_count": 295,
   "metadata": {},
   "outputs": [],
   "source": [
    "athletes = pd.read_csv('athletes.txt', delimiter=\";\")\n",
    "games = pd.read_csv('games.tsv', sep='\\t')\n",
    "results = pd.read_csv(\"results.csv\")"
   ]
  },
  {
   "cell_type": "markdown",
   "metadata": {},
   "source": [
    "#### 1.2 Studying, Checking & Understanding The Datasets/DataFrames\n",
    "###### Note: I studied and checked the datasets's files also before converting them to a dataframe."
   ]
  },
  {
   "cell_type": "markdown",
   "metadata": {},
   "source": [
    "##### 1.2.1 \"athletes\" dataframe overview"
   ]
  },
  {
   "cell_type": "code",
   "execution_count": 296,
   "metadata": {},
   "outputs": [
    {
     "name": "stdout",
     "output_type": "stream",
     "text": [
      "\"athletes\" dataframe has (141856, 8) RowsxColumns\n",
      "\n",
      "\"athletes\" dataframe(only the first row): \n"
     ]
    },
    {
     "data": {
      "text/html": [
       "<div>\n",
       "<style scoped>\n",
       "    .dataframe tbody tr th:only-of-type {\n",
       "        vertical-align: middle;\n",
       "    }\n",
       "\n",
       "    .dataframe tbody tr th {\n",
       "        vertical-align: top;\n",
       "    }\n",
       "\n",
       "    .dataframe thead th {\n",
       "        text-align: right;\n",
       "    }\n",
       "</style>\n",
       "<table border=\"1\" class=\"dataframe\">\n",
       "  <thead>\n",
       "    <tr style=\"text-align: right;\">\n",
       "      <th></th>\n",
       "      <th>athlete</th>\n",
       "      <th>name</th>\n",
       "      <th>sex</th>\n",
       "      <th>born</th>\n",
       "      <th>died</th>\n",
       "      <th>affiliations</th>\n",
       "      <th>title</th>\n",
       "      <th>measurements</th>\n",
       "    </tr>\n",
       "  </thead>\n",
       "  <tbody>\n",
       "    <tr>\n",
       "      <th>0</th>\n",
       "      <td>1.0</td>\n",
       "      <td>Jean-François•Blanchy</td>\n",
       "      <td>Male</td>\n",
       "      <td>12 December 1886 in Bordeaux, Gironde (FRA)</td>\n",
       "      <td>2 October 1960 in Saint-Jean-de-Luz, Pyrénées-...</td>\n",
       "      <td>NaN</td>\n",
       "      <td>NaN</td>\n",
       "      <td>NaN</td>\n",
       "    </tr>\n",
       "  </tbody>\n",
       "</table>\n",
       "</div>"
      ],
      "text/plain": [
       "   athlete                   name   sex  \\\n",
       "0      1.0  Jean-François•Blanchy  Male   \n",
       "\n",
       "                                          born  \\\n",
       "0  12 December 1886 in Bordeaux, Gironde (FRA)   \n",
       "\n",
       "                                                died affiliations title  \\\n",
       "0  2 October 1960 in Saint-Jean-de-Luz, Pyrénées-...          NaN   NaN   \n",
       "\n",
       "  measurements  \n",
       "0          NaN  "
      ]
     },
     "execution_count": 296,
     "metadata": {},
     "output_type": "execute_result"
    }
   ],
   "source": [
    "# I also reviewed the missing values(NaN) and the data type of the columns but did not print\n",
    "print(f'\"athletes\" dataframe has {athletes.shape} RowsxColumns')\n",
    "print('\\n' + '\"athletes\" dataframe(only the first row): ')\n",
    "athletes.head(1)"
   ]
  },
  {
   "cell_type": "markdown",
   "metadata": {},
   "source": [
    "##### 1.2.2 games dataframe overview"
   ]
  },
  {
   "cell_type": "code",
   "execution_count": 297,
   "metadata": {},
   "outputs": [
    {
     "name": "stdout",
     "output_type": "stream",
     "text": [
      "\"games\" dataframe has (63, 7) RowsxColumns\n",
      "\n",
      "\"games\" dataframe(only the first row): \n"
     ]
    },
    {
     "data": {
      "text/html": [
       "<div>\n",
       "<style scoped>\n",
       "    .dataframe tbody tr th:only-of-type {\n",
       "        vertical-align: middle;\n",
       "    }\n",
       "\n",
       "    .dataframe tbody tr th {\n",
       "        vertical-align: top;\n",
       "    }\n",
       "\n",
       "    .dataframe thead th {\n",
       "        text-align: right;\n",
       "    }\n",
       "</style>\n",
       "<table border=\"1\" class=\"dataframe\">\n",
       "  <thead>\n",
       "    <tr style=\"text-align: right;\">\n",
       "      <th></th>\n",
       "      <th>year</th>\n",
       "      <th>season</th>\n",
       "      <th>games_city</th>\n",
       "      <th>games_country</th>\n",
       "      <th>games_opened</th>\n",
       "      <th>games_closed</th>\n",
       "      <th>games_remark</th>\n",
       "    </tr>\n",
       "  </thead>\n",
       "  <tbody>\n",
       "    <tr>\n",
       "      <th>0</th>\n",
       "      <td>1896</td>\n",
       "      <td>Summer</td>\n",
       "      <td>Athina</td>\n",
       "      <td>Greece</td>\n",
       "      <td>1896-04-06</td>\n",
       "      <td>1896-04-15</td>\n",
       "      <td>NaN</td>\n",
       "    </tr>\n",
       "  </tbody>\n",
       "</table>\n",
       "</div>"
      ],
      "text/plain": [
       "   year  season games_city games_country games_opened games_closed  \\\n",
       "0  1896  Summer     Athina        Greece   1896-04-06   1896-04-15   \n",
       "\n",
       "  games_remark  \n",
       "0          NaN  "
      ]
     },
     "execution_count": 297,
     "metadata": {},
     "output_type": "execute_result"
    }
   ],
   "source": [
    "# I also reviewed the missing values(NaN) and the data type of the columns but did not print\n",
    "print(f'\"games\" dataframe has {games.shape} RowsxColumns')\n",
    "print('\\n' + '\"games\" dataframe(only the first row): ')\n",
    "games.head(1)\n"
   ]
  },
  {
   "cell_type": "markdown",
   "metadata": {},
   "source": [
    "##### 1.2.3 results dataframe overview"
   ]
  },
  {
   "cell_type": "code",
   "execution_count": 298,
   "metadata": {},
   "outputs": [
    {
     "name": "stdout",
     "output_type": "stream",
     "text": [
      "\"results\" dataframe has (50822, 10) RowsxColumns\n",
      "\n",
      "\"results\" dataframe(only the first row): \n"
     ]
    },
    {
     "data": {
      "text/html": [
       "<div>\n",
       "<style scoped>\n",
       "    .dataframe tbody tr th:only-of-type {\n",
       "        vertical-align: middle;\n",
       "    }\n",
       "\n",
       "    .dataframe tbody tr th {\n",
       "        vertical-align: top;\n",
       "    }\n",
       "\n",
       "    .dataframe thead th {\n",
       "        text-align: right;\n",
       "    }\n",
       "</style>\n",
       "<table border=\"1\" class=\"dataframe\">\n",
       "  <thead>\n",
       "    <tr style=\"text-align: right;\">\n",
       "      <th></th>\n",
       "      <th>athlete</th>\n",
       "      <th>year</th>\n",
       "      <th>season</th>\n",
       "      <th>sport</th>\n",
       "      <th>discipline</th>\n",
       "      <th>pos</th>\n",
       "      <th>medal</th>\n",
       "      <th>country</th>\n",
       "      <th>country_code</th>\n",
       "      <th>team</th>\n",
       "    </tr>\n",
       "  </thead>\n",
       "  <tbody>\n",
       "    <tr>\n",
       "      <th>0</th>\n",
       "      <td>1014</td>\n",
       "      <td>2020</td>\n",
       "      <td>Summer</td>\n",
       "      <td>Table Tennis</td>\n",
       "      <td>Singles, Women</td>\n",
       "      <td>65.0</td>\n",
       "      <td>NaN</td>\n",
       "      <td>Nigeria</td>\n",
       "      <td>NGR</td>\n",
       "      <td>NaN</td>\n",
       "    </tr>\n",
       "  </tbody>\n",
       "</table>\n",
       "</div>"
      ],
      "text/plain": [
       "   athlete  year  season         sport      discipline   pos medal  country  \\\n",
       "0     1014  2020  Summer  Table Tennis  Singles, Women  65.0   NaN  Nigeria   \n",
       "\n",
       "  country_code team  \n",
       "0          NGR  NaN  "
      ]
     },
     "execution_count": 298,
     "metadata": {},
     "output_type": "execute_result"
    }
   ],
   "source": [
    "# I also reviewed the missing values(NaN) and the data type of the columns but did not print\n",
    "print(f'\"results\" dataframe has {results.shape} RowsxColumns')\n",
    "print('\\n' + '\"results\" dataframe(only the first row): ')\n",
    "results.head(1)"
   ]
  },
  {
   "cell_type": "markdown",
   "metadata": {},
   "source": [
    "#### 1.3 Consolidating & Merging DataFrames"
   ]
  },
  {
   "cell_type": "markdown",
   "metadata": {},
   "source": [
    "##### 1.3.1 merging athletes and results dataframes"
   ]
  },
  {
   "cell_type": "code",
   "execution_count": 299,
   "metadata": {},
   "outputs": [],
   "source": [
    "merge_res_ath = pd.merge(left=athletes, right=results, on=[\"athlete\"], how=\"right\")"
   ]
  },
  {
   "cell_type": "markdown",
   "metadata": {},
   "source": [
    "merged dataframe(merge_res_ath) overview:"
   ]
  },
  {
   "cell_type": "code",
   "execution_count": 300,
   "metadata": {},
   "outputs": [
    {
     "name": "stdout",
     "output_type": "stream",
     "text": [
      "\"merge_res_ath\" dataframe has (50822, 17) RowsxColumns\n",
      "\n",
      "\"merge_res_ath\" dataframe(only the first row): \n"
     ]
    },
    {
     "data": {
      "text/html": [
       "<div>\n",
       "<style scoped>\n",
       "    .dataframe tbody tr th:only-of-type {\n",
       "        vertical-align: middle;\n",
       "    }\n",
       "\n",
       "    .dataframe tbody tr th {\n",
       "        vertical-align: top;\n",
       "    }\n",
       "\n",
       "    .dataframe thead th {\n",
       "        text-align: right;\n",
       "    }\n",
       "</style>\n",
       "<table border=\"1\" class=\"dataframe\">\n",
       "  <thead>\n",
       "    <tr style=\"text-align: right;\">\n",
       "      <th></th>\n",
       "      <th>athlete</th>\n",
       "      <th>name</th>\n",
       "      <th>sex</th>\n",
       "      <th>born</th>\n",
       "      <th>died</th>\n",
       "      <th>affiliations</th>\n",
       "      <th>title</th>\n",
       "      <th>measurements</th>\n",
       "      <th>year</th>\n",
       "      <th>season</th>\n",
       "      <th>sport</th>\n",
       "      <th>discipline</th>\n",
       "      <th>pos</th>\n",
       "      <th>medal</th>\n",
       "      <th>country</th>\n",
       "      <th>country_code</th>\n",
       "      <th>team</th>\n",
       "    </tr>\n",
       "  </thead>\n",
       "  <tbody>\n",
       "    <tr>\n",
       "      <th>0</th>\n",
       "      <td>1014.0</td>\n",
       "      <td>Funke•Oshonaike</td>\n",
       "      <td>Female</td>\n",
       "      <td>28 October 1975 in Lagos (NGR)</td>\n",
       "      <td>NaN</td>\n",
       "      <td>Sports Club Poppenbüttel III, Hamburg, GER</td>\n",
       "      <td>NaN</td>\n",
       "      <td>167 cm / 59 kg</td>\n",
       "      <td>2020</td>\n",
       "      <td>Summer</td>\n",
       "      <td>Table Tennis</td>\n",
       "      <td>Singles, Women</td>\n",
       "      <td>65.0</td>\n",
       "      <td>NaN</td>\n",
       "      <td>Nigeria</td>\n",
       "      <td>NGR</td>\n",
       "      <td>NaN</td>\n",
       "    </tr>\n",
       "  </tbody>\n",
       "</table>\n",
       "</div>"
      ],
      "text/plain": [
       "   athlete             name     sex                            born died  \\\n",
       "0   1014.0  Funke•Oshonaike  Female  28 October 1975 in Lagos (NGR)  NaN   \n",
       "\n",
       "                                 affiliations title    measurements  year  \\\n",
       "0  Sports Club Poppenbüttel III, Hamburg, GER   NaN  167 cm / 59 kg  2020   \n",
       "\n",
       "   season         sport      discipline   pos medal  country country_code team  \n",
       "0  Summer  Table Tennis  Singles, Women  65.0   NaN  Nigeria          NGR  NaN  "
      ]
     },
     "execution_count": 300,
     "metadata": {},
     "output_type": "execute_result"
    }
   ],
   "source": [
    "# I also reviewed the missing values(NaN) and the data type of the columns but did not print\n",
    "print(f'\"merge_res_ath\" dataframe has {merge_res_ath.shape} RowsxColumns')\n",
    "print('\\n' + '\"merge_res_ath\" dataframe(only the first row): ')\n",
    "merge_res_ath.head(1)"
   ]
  },
  {
   "cell_type": "markdown",
   "metadata": {},
   "source": [
    "##### 1.3.2 merging merge_res_ath and games dataframes and creating the final dataframe"
   ]
  },
  {
   "cell_type": "code",
   "execution_count": 301,
   "metadata": {},
   "outputs": [],
   "source": [
    "df = pd.merge(left=merge_res_ath, right=games, on=['year', 'season'], how=\"left\")"
   ]
  },
  {
   "cell_type": "markdown",
   "metadata": {},
   "source": [
    "the final merged dataframe \"df\" overview:"
   ]
  },
  {
   "cell_type": "code",
   "execution_count": 302,
   "metadata": {},
   "outputs": [
    {
     "name": "stdout",
     "output_type": "stream",
     "text": [
      "\"df\" dataframe has (50822, 22) RowsxColumns\n",
      "\n",
      "\"df\" dataframe(only the first row): \n"
     ]
    },
    {
     "data": {
      "text/html": [
       "<div>\n",
       "<style scoped>\n",
       "    .dataframe tbody tr th:only-of-type {\n",
       "        vertical-align: middle;\n",
       "    }\n",
       "\n",
       "    .dataframe tbody tr th {\n",
       "        vertical-align: top;\n",
       "    }\n",
       "\n",
       "    .dataframe thead th {\n",
       "        text-align: right;\n",
       "    }\n",
       "</style>\n",
       "<table border=\"1\" class=\"dataframe\">\n",
       "  <thead>\n",
       "    <tr style=\"text-align: right;\">\n",
       "      <th></th>\n",
       "      <th>athlete</th>\n",
       "      <th>name</th>\n",
       "      <th>sex</th>\n",
       "      <th>born</th>\n",
       "      <th>died</th>\n",
       "      <th>affiliations</th>\n",
       "      <th>title</th>\n",
       "      <th>measurements</th>\n",
       "      <th>year</th>\n",
       "      <th>season</th>\n",
       "      <th>...</th>\n",
       "      <th>pos</th>\n",
       "      <th>medal</th>\n",
       "      <th>country</th>\n",
       "      <th>country_code</th>\n",
       "      <th>team</th>\n",
       "      <th>games_city</th>\n",
       "      <th>games_country</th>\n",
       "      <th>games_opened</th>\n",
       "      <th>games_closed</th>\n",
       "      <th>games_remark</th>\n",
       "    </tr>\n",
       "  </thead>\n",
       "  <tbody>\n",
       "    <tr>\n",
       "      <th>0</th>\n",
       "      <td>1014.0</td>\n",
       "      <td>Funke•Oshonaike</td>\n",
       "      <td>Female</td>\n",
       "      <td>28 October 1975 in Lagos (NGR)</td>\n",
       "      <td>NaN</td>\n",
       "      <td>Sports Club Poppenbüttel III, Hamburg, GER</td>\n",
       "      <td>NaN</td>\n",
       "      <td>167 cm / 59 kg</td>\n",
       "      <td>2020</td>\n",
       "      <td>Summer</td>\n",
       "      <td>...</td>\n",
       "      <td>65.0</td>\n",
       "      <td>NaN</td>\n",
       "      <td>Nigeria</td>\n",
       "      <td>NGR</td>\n",
       "      <td>NaN</td>\n",
       "      <td>Tokyo</td>\n",
       "      <td>Japan</td>\n",
       "      <td>2021-07-23</td>\n",
       "      <td>2021-08-08</td>\n",
       "      <td>NaN</td>\n",
       "    </tr>\n",
       "  </tbody>\n",
       "</table>\n",
       "<p>1 rows × 22 columns</p>\n",
       "</div>"
      ],
      "text/plain": [
       "   athlete             name     sex                            born died  \\\n",
       "0   1014.0  Funke•Oshonaike  Female  28 October 1975 in Lagos (NGR)  NaN   \n",
       "\n",
       "                                 affiliations title    measurements  year  \\\n",
       "0  Sports Club Poppenbüttel III, Hamburg, GER   NaN  167 cm / 59 kg  2020   \n",
       "\n",
       "   season  ...   pos medal  country country_code team games_city  \\\n",
       "0  Summer  ...  65.0   NaN  Nigeria          NGR  NaN      Tokyo   \n",
       "\n",
       "  games_country games_opened games_closed games_remark  \n",
       "0         Japan   2021-07-23   2021-08-08          NaN  \n",
       "\n",
       "[1 rows x 22 columns]"
      ]
     },
     "execution_count": 302,
     "metadata": {},
     "output_type": "execute_result"
    }
   ],
   "source": [
    "print(f'\"df\" dataframe has {df.shape} RowsxColumns')\n",
    "print('\\n' + '\"df\" dataframe(only the first row): ')\n",
    "df.head(1)"
   ]
  },
  {
   "cell_type": "markdown",
   "metadata": {},
   "source": [
    "### **2.Answers**\n",
    "###### Note: The comments/descriptions of the codes are for the codes that are placed just under them, unless told otherwise!"
   ]
  },
  {
   "cell_type": "markdown",
   "metadata": {},
   "source": [
    "#### 2.1 Exercise1"
   ]
  },
  {
   "cell_type": "markdown",
   "metadata": {},
   "source": [
    "Exercise 1.1 : What is the name of the most successful athlete since 2012, as measured by the number of gold medals?"
   ]
  },
  {
   "cell_type": "markdown",
   "metadata": {},
   "source": [
    "Answer 1.1"
   ]
  },
  {
   "cell_type": "code",
   "execution_count": 303,
   "metadata": {},
   "outputs": [
    {
     "name": "stdout",
     "output_type": "stream",
     "text": [
      "The name of the most successful athlete, since 2012, is: Michael•Phelps\n"
     ]
    }
   ],
   "source": [
    "numbers_of_golds = df[df.medal == \"Gold\"].groupby('athlete')['medal'].count().reset_index()\n",
    "most_gold_medal_index = numbers_of_golds.index[numbers_of_golds['medal'] == \n",
    "                                               numbers_of_golds['medal'].max()]\n",
    "\n",
    "best_ath_index = numbers_of_golds['athlete'].loc[most_gold_medal_index[0]]\n",
    "most_succesful_athlete = df.set_index('athlete')['name'].loc[best_ath_index].iloc[0]\n",
    "\n",
    "print(f'The name of the most successful athlete, since 2012, is: {most_succesful_athlete}')\n"
   ]
  },
  {
   "cell_type": "markdown",
   "metadata": {},
   "source": [
    "Exercise 1.2 : How many different athletes have participated in the Olympic Games since 2012?"
   ]
  },
  {
   "cell_type": "markdown",
   "metadata": {},
   "source": [
    "Answer 1.2"
   ]
  },
  {
   "cell_type": "code",
   "execution_count": 304,
   "metadata": {},
   "outputs": [
    {
     "name": "stdout",
     "output_type": "stream",
     "text": [
      "29655 athletes have participates in the Olympic Games since 2012\n"
     ]
    }
   ],
   "source": [
    "ath_total_numbers  = results.athlete.nunique()\n",
    "\n",
    "print(f'{ath_total_numbers} athletes have participates in the Olympic Games since 2012')"
   ]
  },
  {
   "cell_type": "markdown",
   "metadata": {},
   "source": [
    "Exercise 1.3 : What are the 10 countries with the lowest ratio of female participants? Represent this information using a bar chart."
   ]
  },
  {
   "cell_type": "markdown",
   "metadata": {},
   "source": [
    "Answer 1.3"
   ]
  },
  {
   "cell_type": "code",
   "execution_count": 305,
   "metadata": {},
   "outputs": [
    {
     "data": {
      "text/plain": [
       "<Axes: title={'center': 'Top 10 Countries with Lowest Female Participation Ratios'}, xlabel='country'>"
      ]
     },
     "execution_count": 305,
     "metadata": {},
     "output_type": "execute_result"
    },
    {
     "data": {
      "text/plain": [
       "Text(0.5, 0, 'Country')"
      ]
     },
     "execution_count": 305,
     "metadata": {},
     "output_type": "execute_result"
    },
    {
     "data": {
      "text/plain": [
       "Text(0, 0.5, 'Female Participation Ratio')"
      ]
     },
     "execution_count": 305,
     "metadata": {},
     "output_type": "execute_result"
    },
    {
     "data": {
      "image/png": "[encoded data removed]",
      "text/plain": [
       "<Figure size 800x300 with 1 Axes>"
      ]
     },
     "metadata": {},
     "output_type": "display_data"
    }
   ],
   "source": [
    "import matplotlib.pyplot as plt\n",
    "\n",
    "sex_ratio_by_country = df.groupby('country')['sex'].value_counts(normalize=True)\n",
    "female_ratio = sex_ratio_by_country.unstack().fillna(0)['Female'].sort_values(ascending=True)\n",
    "lowest_female_attend = female_ratio.head(10)\n",
    "\n",
    "lowest_female_attend.plot(kind=\"bar\",\n",
    "            title=\"Top 10 Countries with Lowest Female Participation Ratios\", figsize=(8, 3))\n",
    "plt.xlabel('Country')\n",
    "plt.ylabel('Female Participation Ratio')"
   ]
  },
  {
   "cell_type": "markdown",
   "metadata": {},
   "source": [
    "#### 2.2 Exercise2"
   ]
  },
  {
   "cell_type": "markdown",
   "metadata": {},
   "source": [
    "Exercise 2.1 : What are the three most common firstnames of female athletes from the country ‘Republic of Korea’?"
   ]
  },
  {
   "cell_type": "markdown",
   "metadata": {},
   "source": [
    "Answer 2.1"
   ]
  },
  {
   "cell_type": "code",
   "execution_count": 306,
   "metadata": {},
   "outputs": [
    {
     "name": "stdout",
     "output_type": "stream",
     "text": [
      "The three most common -first names- of female athletes from Republic of Korea are: first_name\n",
      "Hye-Jin    12\n",
      "Ji-Hui     10\n",
      "Ji-Yeon     9\n",
      "Name: count, dtype: int64\n"
     ]
    }
   ],
   "source": [
    "korean_female_ath = df[(df['country'] == 'Republic of Korea') & (df['sex'] == 'Female')]\n",
    "korean_female_ath['first_name'] = korean_female_ath['name'].apply(lambda x: x.split('•')[1])\n",
    "popular_three_name = korean_female_ath['first_name'].value_counts()[0:3]\n",
    "\n",
    "print( f'The three most common -first names- of female athletes from Republic of Korea are: {popular_three_name}')\n"
   ]
  },
  {
   "cell_type": "markdown",
   "metadata": {},
   "source": [
    "Exercise 2.2 : Who is the tallest female athlete? Provide the name, height, country and sport."
   ]
  },
  {
   "cell_type": "markdown",
   "metadata": {},
   "source": [
    "Answer 2.2"
   ]
  },
  {
   "cell_type": "code",
   "execution_count": 307,
   "metadata": {},
   "outputs": [
    {
     "name": "stdout",
     "output_type": "stream",
     "text": [
      "The tallest female athlete is:\n",
      "name                          Wei•Wei\n",
      "height                          206.0\n",
      "country    People's Republic of China\n",
      "sport                     Basketball \n",
      "Name: 45303, dtype: object\n"
     ]
    }
   ],
   "source": [
    "female_athletes = df[df['sex'] == 'Female']\n",
    "# the method .extract('(\\d+)') is used to extract only the integer part of height\n",
    "# from the 'measurments' column\n",
    "female_athletes['height'] = female_athletes['measurements'].str.extract('(\\d+)').astype(float)\n",
    "tallest_female_athlete = female_athletes[female_athletes['height'] ==\n",
    "                                          female_athletes['height'].max()]\n",
    "\n",
    "desired_features = tallest_female_athlete[['name', 'height', 'country', 'sport']].iloc[0]\n",
    "\n",
    "print('The tallest female athlete is:')\n",
    "print(f'{desired_features}')"
   ]
  },
  {
   "cell_type": "markdown",
   "metadata": {},
   "source": [
    "Exercise 2.3 : What are the 10 sports with the highest average weight of participants? Provide the sport and the weight."
   ]
  },
  {
   "cell_type": "markdown",
   "metadata": {},
   "source": [
    "Answer 2.3"
   ]
  },
  {
   "cell_type": "code",
   "execution_count": 308,
   "metadata": {},
   "outputs": [
    {
     "name": "stdout",
     "output_type": "stream",
     "text": [
      "The 10 sports with the highest average weight of participants are:\n"
     ]
    },
    {
     "data": {
      "text/html": [
       "<div>\n",
       "<style scoped>\n",
       "    .dataframe tbody tr th:only-of-type {\n",
       "        vertical-align: middle;\n",
       "    }\n",
       "\n",
       "    .dataframe tbody tr th {\n",
       "        vertical-align: top;\n",
       "    }\n",
       "\n",
       "    .dataframe thead th {\n",
       "        text-align: right;\n",
       "    }\n",
       "</style>\n",
       "<table border=\"1\" class=\"dataframe\">\n",
       "  <thead>\n",
       "    <tr style=\"text-align: right;\">\n",
       "      <th></th>\n",
       "      <th>Sport</th>\n",
       "      <th>Ave. Weight/kg</th>\n",
       "    </tr>\n",
       "  </thead>\n",
       "  <tbody>\n",
       "    <tr>\n",
       "      <th>11</th>\n",
       "      <td>Bobsleigh</td>\n",
       "      <td>93.904545</td>\n",
       "    </tr>\n",
       "    <tr>\n",
       "      <th>0</th>\n",
       "      <td>3x3 Basketball</td>\n",
       "      <td>90.500000</td>\n",
       "    </tr>\n",
       "    <tr>\n",
       "      <th>8</th>\n",
       "      <td>Basketball</td>\n",
       "      <td>87.092564</td>\n",
       "    </tr>\n",
       "    <tr>\n",
       "      <th>7</th>\n",
       "      <td>Baseball</td>\n",
       "      <td>86.666667</td>\n",
       "    </tr>\n",
       "    <tr>\n",
       "      <th>61</th>\n",
       "      <td>Water Polo</td>\n",
       "      <td>85.910632</td>\n",
       "    </tr>\n",
       "    <tr>\n",
       "      <th>31</th>\n",
       "      <td>Handball</td>\n",
       "      <td>82.876325</td>\n",
       "    </tr>\n",
       "    <tr>\n",
       "      <th>36</th>\n",
       "      <td>Luge</td>\n",
       "      <td>81.003145</td>\n",
       "    </tr>\n",
       "    <tr>\n",
       "      <th>41</th>\n",
       "      <td>Rowing</td>\n",
       "      <td>80.387898</td>\n",
       "    </tr>\n",
       "    <tr>\n",
       "      <th>60</th>\n",
       "      <td>Volleyball</td>\n",
       "      <td>80.311239</td>\n",
       "    </tr>\n",
       "    <tr>\n",
       "      <th>33</th>\n",
       "      <td>Ice Hockey</td>\n",
       "      <td>80.188865</td>\n",
       "    </tr>\n",
       "  </tbody>\n",
       "</table>\n",
       "</div>"
      ],
      "text/plain": [
       "              Sport  Ave. Weight/kg\n",
       "11       Bobsleigh        93.904545\n",
       "0   3x3 Basketball        90.500000\n",
       "8       Basketball        87.092564\n",
       "7         Baseball        86.666667\n",
       "61      Water Polo        85.910632\n",
       "31         Handball       82.876325\n",
       "36             Luge       81.003145\n",
       "41           Rowing       80.387898\n",
       "60      Volleyball        80.311239\n",
       "33      Ice Hockey        80.188865"
      ]
     },
     "execution_count": 308,
     "metadata": {},
     "output_type": "execute_result"
    }
   ],
   "source": [
    "remove_NaNs = df.dropna(subset=['measurements'])\n",
    "\n",
    "# the method .extract('(\\d+) kg') is used to extract only the integer part of weight\n",
    "# from the 'measurments' column\n",
    "remove_NaNs['weight'] = remove_NaNs['measurements'].str.extract('(\\d+) kg').astype(float)\n",
    "\n",
    "ave_weight_by_sport = remove_NaNs.groupby('sport')['weight'].mean().reset_index()\n",
    "ave_weight_by_sport = ave_weight_by_sport.sort_values(by='weight', ascending=False)\n",
    "\n",
    "ten_highest_weights = ave_weight_by_sport.head(10)\n",
    "ten_highest_weights.columns = ['Sport', 'Ave. Weight/kg']\n",
    "\n",
    "print(\"The 10 sports with the highest average weight of participants are:\")\n",
    "ten_highest_weights\n"
   ]
  },
  {
   "cell_type": "markdown",
   "metadata": {},
   "source": [
    "Exercise 2.4 : What are the 3 sports with the largest number of participants that are severely underweight? Provide the sport and the number of severely underweight participants. Severe underweight is defined by a body-mass-index (BMI) smaller than 16, where BMI is calculate as weight/height^2 in the unit kg/m^2."
   ]
  },
  {
   "cell_type": "markdown",
   "metadata": {},
   "source": [
    "Answer 2.4"
   ]
  },
  {
   "cell_type": "code",
   "execution_count": 309,
   "metadata": {},
   "outputs": [
    {
     "name": "stdout",
     "output_type": "stream",
     "text": [
      "The 3 sports with the largest number of participants that are severely underweight are:\n"
     ]
    },
    {
     "data": {
      "text/html": [
       "<div>\n",
       "<style scoped>\n",
       "    .dataframe tbody tr th:only-of-type {\n",
       "        vertical-align: middle;\n",
       "    }\n",
       "\n",
       "    .dataframe tbody tr th {\n",
       "        vertical-align: top;\n",
       "    }\n",
       "\n",
       "    .dataframe thead th {\n",
       "        text-align: right;\n",
       "    }\n",
       "</style>\n",
       "<table border=\"1\" class=\"dataframe\">\n",
       "  <thead>\n",
       "    <tr style=\"text-align: right;\">\n",
       "      <th></th>\n",
       "      <th>Sport</th>\n",
       "      <th>Severely Underweight Participants Number</th>\n",
       "    </tr>\n",
       "  </thead>\n",
       "  <tbody>\n",
       "    <tr>\n",
       "      <th>0</th>\n",
       "      <td>Rhythmic Gymnastics</td>\n",
       "      <td>8</td>\n",
       "    </tr>\n",
       "    <tr>\n",
       "      <th>1</th>\n",
       "      <td>Athletics</td>\n",
       "      <td>7</td>\n",
       "    </tr>\n",
       "    <tr>\n",
       "      <th>2</th>\n",
       "      <td>Figure Skating</td>\n",
       "      <td>3</td>\n",
       "    </tr>\n",
       "  </tbody>\n",
       "</table>\n",
       "</div>"
      ],
      "text/plain": [
       "                  Sport  Severely Underweight Participants Number\n",
       "0  Rhythmic Gymnastics                                          8\n",
       "1             Athletics                                         7\n",
       "2       Figure Skating                                          3"
      ]
     },
     "execution_count": 309,
     "metadata": {},
     "output_type": "execute_result"
    }
   ],
   "source": [
    "df['height'] = df['measurements'].str.extract('(\\d+)').astype(float)\n",
    "df['weight'] = df['measurements'].str.extract('(\\d+) kg').astype(float)\n",
    "\n",
    "unique_ath = df.drop_duplicates(subset=\"athlete\")\n",
    "\n",
    "unique_ath['BMI'] = (unique_ath['weight'] /  (unique_ath['height'] / 100) ** 2)\n",
    "\n",
    "severely_underweight_participants = unique_ath[unique_ath['BMI'] < 16]\n",
    "\n",
    "sports_are_severely_underweight_participants = severely_underweight_participants['sport'].value_counts().reset_index()\n",
    "sports_are_severely_underweight = severely_underweight_participants['sport'].value_counts().reset_index()\n",
    "sports_are_severely_underweight.columns = ['Sport', 'Severely Underweight Participants Number']\n",
    "sports_are_severely_underweight = sports_are_severely_underweight.sort_values(by='Severely Underweight Participants Number', ascending=False)\n",
    "\n",
    "the_3_sports_with_largest_severely_underweight = sports_are_severely_underweight.head(3)\n",
    "print(\"The 3 sports with the largest number of participants that are severely underweight are:\")\n",
    "the_3_sports_with_largest_severely_underweight"
   ]
  },
  {
   "cell_type": "markdown",
   "metadata": {},
   "source": [
    "#### 2.3 Exercise3"
   ]
  },
  {
   "cell_type": "markdown",
   "metadata": {},
   "source": [
    "For the following two questions you need to calculate the age of particantants. We define age as the number of completed years at the beginning of the Olympic Games at which the athlete participates. To calculate the age you need to (1) leverage the information about the date of birth and you (2) need to consider the date when the Olympic Games were opened\n",
    "\n",
    "Exercise 3.1: Who is the oldest athlete? Provide the name and the age."
   ]
  },
  {
   "cell_type": "markdown",
   "metadata": {},
   "source": [
    "Answer 3.1"
   ]
  },
  {
   "cell_type": "code",
   "execution_count": 310,
   "metadata": {},
   "outputs": [],
   "source": [
    "df['games_opened'] = pd.to_datetime(df['games_opened'], format='%Y-%m-%d')\n",
    "\n",
    "df['born'] = df['born'].str.extract(r'(\\d{1,2}\\s\\w+\\s\\d{4})')\n",
    "df['born'] = pd.to_datetime(df['born'], format=\"%d %B %Y\")\n",
    "df['age'] = (df['games_opened'] - df['born']).dt.days // 365\n",
    "\n",
    "oldest_athlete = df[df['age'] == df['age'].max()]"
   ]
  },
  {
   "cell_type": "code",
   "execution_count": 311,
   "metadata": {},
   "outputs": [
    {
     "name": "stdout",
     "output_type": "stream",
     "text": [
      "The oldest athlete is:\n",
      "Name: Hiroshi•Hoketsu\n",
      "Age: 71\n"
     ]
    }
   ],
   "source": [
    "print(\"The oldest athlete is:\")\n",
    "print(\"Name:\", oldest_athlete[\"name\"].iloc[0])\n",
    "print(\"Age:\", oldest_athlete[\"age\"].iloc[0])"
   ]
  },
  {
   "cell_type": "markdown",
   "metadata": {},
   "source": [
    "Exercise 3.2: What are the 10 sports with the highest average age of participants? Provide the sport and the average age."
   ]
  },
  {
   "cell_type": "markdown",
   "metadata": {},
   "source": [
    "Answer 3.2"
   ]
  },
  {
   "cell_type": "code",
   "execution_count": 312,
   "metadata": {},
   "outputs": [
    {
     "name": "stdout",
     "output_type": "stream",
     "text": [
      "\n",
      "The 10 sports with the highest average age of participants are:\n"
     ]
    },
    {
     "data": {
      "text/html": [
       "<div>\n",
       "<style scoped>\n",
       "    .dataframe tbody tr th:only-of-type {\n",
       "        vertical-align: middle;\n",
       "    }\n",
       "\n",
       "    .dataframe tbody tr th {\n",
       "        vertical-align: top;\n",
       "    }\n",
       "\n",
       "    .dataframe thead th {\n",
       "        text-align: right;\n",
       "    }\n",
       "</style>\n",
       "<table border=\"1\" class=\"dataframe\">\n",
       "  <thead>\n",
       "    <tr style=\"text-align: right;\">\n",
       "      <th></th>\n",
       "      <th>Sport</th>\n",
       "      <th>Average Age</th>\n",
       "    </tr>\n",
       "  </thead>\n",
       "  <tbody>\n",
       "    <tr>\n",
       "      <th>25</th>\n",
       "      <td>Equestrian Jumping</td>\n",
       "      <td>38.510896</td>\n",
       "    </tr>\n",
       "    <tr>\n",
       "      <th>23</th>\n",
       "      <td>Equestrian Dressage</td>\n",
       "      <td>38.192568</td>\n",
       "    </tr>\n",
       "    <tr>\n",
       "      <th>24</th>\n",
       "      <td>Equestrian Eventing</td>\n",
       "      <td>37.089431</td>\n",
       "    </tr>\n",
       "    <tr>\n",
       "      <th>44</th>\n",
       "      <td>Shooting</td>\n",
       "      <td>30.950299</td>\n",
       "    </tr>\n",
       "    <tr>\n",
       "      <th>16</th>\n",
       "      <td>Curling</td>\n",
       "      <td>29.512438</td>\n",
       "    </tr>\n",
       "    <tr>\n",
       "      <th>9</th>\n",
       "      <td>Beach Volleyball</td>\n",
       "      <td>29.460714</td>\n",
       "    </tr>\n",
       "    <tr>\n",
       "      <th>7</th>\n",
       "      <td>Baseball</td>\n",
       "      <td>29.393333</td>\n",
       "    </tr>\n",
       "    <tr>\n",
       "      <th>30</th>\n",
       "      <td>Golf</td>\n",
       "      <td>28.965957</td>\n",
       "    </tr>\n",
       "    <tr>\n",
       "      <th>20</th>\n",
       "      <td>Cycling Road</td>\n",
       "      <td>28.675472</td>\n",
       "    </tr>\n",
       "    <tr>\n",
       "      <th>11</th>\n",
       "      <td>Bobsleigh</td>\n",
       "      <td>28.548753</td>\n",
       "    </tr>\n",
       "  </tbody>\n",
       "</table>\n",
       "</div>"
      ],
      "text/plain": [
       "                   Sport  Average Age\n",
       "25   Equestrian Jumping     38.510896\n",
       "23  Equestrian Dressage     38.192568\n",
       "24  Equestrian Eventing     37.089431\n",
       "44              Shooting    30.950299\n",
       "16               Curling    29.512438\n",
       "9      Beach Volleyball     29.460714\n",
       "7              Baseball     29.393333\n",
       "30                  Golf    28.965957\n",
       "20         Cycling Road     28.675472\n",
       "11            Bobsleigh     28.548753"
      ]
     },
     "execution_count": 312,
     "metadata": {},
     "output_type": "execute_result"
    }
   ],
   "source": [
    "ave_age_by_sport = df.groupby('sport')['age'].mean().reset_index()\n",
    "ave_age_by_sport = ave_age_by_sport.sort_values(by='age', ascending=False)\n",
    "\n",
    "top_10_sports_highest_ave_age = ave_age_by_sport.head(10)\n",
    "top_10_sports_highest_ave_age.columns = ['Sport', 'Average Age']\n",
    "\n",
    "print('\\n' + \"The 10 sports with the highest average age of participants are:\")\n",
    "top_10_sports_highest_ave_age\n"
   ]
  },
  {
   "cell_type": "markdown",
   "metadata": {},
   "source": [
    "# 2.4 Exercise4"
   ]
  },
  {
   "cell_type": "markdown",
   "metadata": {},
   "source": [
    "Exercise 4: Calculate the medal table for the Summer Olympic Games 2016 in Rio de Janeiro. See the official medal table as a reference. Your medal table should have the same structure (same column names and same orting) as the official medal table. Display the top 10 countries."
   ]
  },
  {
   "cell_type": "markdown",
   "metadata": {},
   "source": [
    "Answer 4"
   ]
  },
  {
   "cell_type": "code",
   "execution_count": 313,
   "metadata": {},
   "outputs": [
    {
     "name": "stdout",
     "output_type": "stream",
     "text": [
      "The Medal Table for the Summer Olympic Games 2016 in Rio de Janeiro:\n"
     ]
    },
    {
     "data": {
      "text/html": [
       "<div>\n",
       "<style scoped>\n",
       "    .dataframe tbody tr th:only-of-type {\n",
       "        vertical-align: middle;\n",
       "    }\n",
       "\n",
       "    .dataframe tbody tr th {\n",
       "        vertical-align: top;\n",
       "    }\n",
       "\n",
       "    .dataframe thead th {\n",
       "        text-align: right;\n",
       "    }\n",
       "</style>\n",
       "<table border=\"1\" class=\"dataframe\">\n",
       "  <thead>\n",
       "    <tr style=\"text-align: right;\">\n",
       "      <th></th>\n",
       "      <th>NOC</th>\n",
       "      <th>Gold</th>\n",
       "      <th>Silver</th>\n",
       "      <th>Bronze</th>\n",
       "      <th>Total</th>\n",
       "    </tr>\n",
       "    <tr>\n",
       "      <th>Rank</th>\n",
       "      <th></th>\n",
       "      <th></th>\n",
       "      <th></th>\n",
       "      <th></th>\n",
       "      <th></th>\n",
       "    </tr>\n",
       "  </thead>\n",
       "  <tbody>\n",
       "    <tr>\n",
       "      <th>1</th>\n",
       "      <td>United States</td>\n",
       "      <td>46</td>\n",
       "      <td>37</td>\n",
       "      <td>38</td>\n",
       "      <td>121</td>\n",
       "    </tr>\n",
       "    <tr>\n",
       "      <th>2</th>\n",
       "      <td>Great Britain</td>\n",
       "      <td>27</td>\n",
       "      <td>23</td>\n",
       "      <td>17</td>\n",
       "      <td>67</td>\n",
       "    </tr>\n",
       "    <tr>\n",
       "      <th>3</th>\n",
       "      <td>People's Republic of China</td>\n",
       "      <td>26</td>\n",
       "      <td>18</td>\n",
       "      <td>26</td>\n",
       "      <td>70</td>\n",
       "    </tr>\n",
       "    <tr>\n",
       "      <th>4</th>\n",
       "      <td>Russian Federation</td>\n",
       "      <td>19</td>\n",
       "      <td>17</td>\n",
       "      <td>20</td>\n",
       "      <td>56</td>\n",
       "    </tr>\n",
       "    <tr>\n",
       "      <th>5</th>\n",
       "      <td>Germany</td>\n",
       "      <td>17</td>\n",
       "      <td>10</td>\n",
       "      <td>15</td>\n",
       "      <td>42</td>\n",
       "    </tr>\n",
       "    <tr>\n",
       "      <th>6</th>\n",
       "      <td>Japan</td>\n",
       "      <td>12</td>\n",
       "      <td>8</td>\n",
       "      <td>21</td>\n",
       "      <td>41</td>\n",
       "    </tr>\n",
       "    <tr>\n",
       "      <th>7</th>\n",
       "      <td>France</td>\n",
       "      <td>10</td>\n",
       "      <td>18</td>\n",
       "      <td>14</td>\n",
       "      <td>42</td>\n",
       "    </tr>\n",
       "    <tr>\n",
       "      <th>8</th>\n",
       "      <td>Republic of Korea</td>\n",
       "      <td>9</td>\n",
       "      <td>3</td>\n",
       "      <td>9</td>\n",
       "      <td>21</td>\n",
       "    </tr>\n",
       "    <tr>\n",
       "      <th>9</th>\n",
       "      <td>Italy</td>\n",
       "      <td>8</td>\n",
       "      <td>12</td>\n",
       "      <td>8</td>\n",
       "      <td>28</td>\n",
       "    </tr>\n",
       "    <tr>\n",
       "      <th>10</th>\n",
       "      <td>Australia</td>\n",
       "      <td>8</td>\n",
       "      <td>11</td>\n",
       "      <td>10</td>\n",
       "      <td>29</td>\n",
       "    </tr>\n",
       "  </tbody>\n",
       "</table>\n",
       "</div>"
      ],
      "text/plain": [
       "                             NOC  Gold  Silver  Bronze  Total\n",
       "Rank                                                         \n",
       "1                  United States    46      37      38    121\n",
       "2                  Great Britain    27      23      17     67\n",
       "3     People's Republic of China    26      18      26     70\n",
       "4             Russian Federation    19      17      20     56\n",
       "5                        Germany    17      10      15     42\n",
       "6                          Japan    12       8      21     41\n",
       "7                         France    10      18      14     42\n",
       "8              Republic of Korea     9       3       9     21\n",
       "9                          Italy     8      12       8     28\n",
       "10                     Australia     8      11      10     29"
      ]
     },
     "execution_count": 313,
     "metadata": {},
     "output_type": "execute_result"
    }
   ],
   "source": [
    "summer_2016_rio = df[(df[\"games_city\"] == \"Rio de Janeiro\") & (df[\"year\"] == 2016)]\n",
    "\n",
    "team_events = summer_2016_rio.groupby(['sport', 'discipline'])['team'].count().reset_index()\n",
    "team_events = team_events[team_events['team'] > 1]\n",
    "\n",
    "total_medals = summer_2016_rio[~summer_2016_rio.duplicated(subset=\n",
    "                                    ['country', 'sport', 'discipline', 'medal'], keep='first')]\n",
    "\n",
    "countries_medal = total_medals.groupby('country')['medal'].value_counts().unstack(fill_value=0).reset_index()\n",
    "countries_medal_sorted = countries_medal.sort_values(['Gold', 'Silver', 'Bronze', 'country'], ascending=[False, False, False, True])\n",
    "countries_medal_sorted['Total'] = countries_medal_sorted['Gold'] + countries_medal_sorted['Silver'] + countries_medal_sorted['Bronze']\n",
    "\n",
    "top_10_countries = countries_medal_sorted.head(10)\n",
    "top_10_countries['Rank'] = range(1, 11)\n",
    "top_10_countries.set_index('Rank', inplace=True)\n",
    "top_10_countries.columns.name = None\n",
    "top_10_countries.rename(columns={'country': 'NOC'}, inplace=True)\n",
    "desired_order = ['NOC', 'Gold', 'Silver', 'Bronze', 'Total']\n",
    "top_10_countries = top_10_countries[desired_order]\n",
    "\n",
    "print(\"The Medal Table for the Summer Olympic Games 2016 in Rio de Janeiro:\")\n",
    "top_10_countries"
   ]
  },
  {
   "cell_type": "markdown",
   "metadata": {},
   "source": [
    "#### 2.5 Exercise5"
   ]
  },
  {
   "cell_type": "markdown",
   "metadata": {},
   "source": [
    "Exercise 5: Using population data, calculate a new medal table for the 2016 Rio Olympics, showing medals per capita for the top 10 countries."
   ]
  },
  {
   "cell_type": "markdown",
   "metadata": {},
   "source": [
    "Answer 5"
   ]
  },
  {
   "cell_type": "code",
   "execution_count": 314,
   "metadata": {},
   "outputs": [
    {
     "name": "stdout",
     "output_type": "stream",
     "text": [
      "The New Medal Table for the Summer Olympic Games 2016 in Rio de Janeiro:\n"
     ]
    },
    {
     "data": {
      "text/html": [
       "<div>\n",
       "<style scoped>\n",
       "    .dataframe tbody tr th:only-of-type {\n",
       "        vertical-align: middle;\n",
       "    }\n",
       "\n",
       "    .dataframe tbody tr th {\n",
       "        vertical-align: top;\n",
       "    }\n",
       "\n",
       "    .dataframe thead th {\n",
       "        text-align: right;\n",
       "    }\n",
       "</style>\n",
       "<table border=\"1\" class=\"dataframe\">\n",
       "  <thead>\n",
       "    <tr style=\"text-align: right;\">\n",
       "      <th></th>\n",
       "      <th>NOC</th>\n",
       "      <th>Gold_per_Million</th>\n",
       "      <th>Silver_per_Million</th>\n",
       "      <th>Bronze_per_Million</th>\n",
       "      <th>Total_per_Million</th>\n",
       "    </tr>\n",
       "    <tr>\n",
       "      <th>Rank</th>\n",
       "      <th></th>\n",
       "      <th></th>\n",
       "      <th></th>\n",
       "      <th></th>\n",
       "      <th></th>\n",
       "    </tr>\n",
       "  </thead>\n",
       "  <tbody>\n",
       "    <tr>\n",
       "      <th>1</th>\n",
       "      <td>The Bahamas</td>\n",
       "      <td>2.525406</td>\n",
       "      <td>0.000000</td>\n",
       "      <td>2.525406</td>\n",
       "      <td>5.050811</td>\n",
       "    </tr>\n",
       "    <tr>\n",
       "      <th>2</th>\n",
       "      <td>Jamaica</td>\n",
       "      <td>2.140797</td>\n",
       "      <td>1.070398</td>\n",
       "      <td>0.713599</td>\n",
       "      <td>3.924794</td>\n",
       "    </tr>\n",
       "    <tr>\n",
       "      <th>3</th>\n",
       "      <td>Croatia</td>\n",
       "      <td>1.197792</td>\n",
       "      <td>0.718675</td>\n",
       "      <td>0.479117</td>\n",
       "      <td>2.395583</td>\n",
       "    </tr>\n",
       "    <tr>\n",
       "      <th>4</th>\n",
       "      <td>Fiji</td>\n",
       "      <td>1.088885</td>\n",
       "      <td>0.000000</td>\n",
       "      <td>0.000000</td>\n",
       "      <td>1.088885</td>\n",
       "    </tr>\n",
       "    <tr>\n",
       "      <th>5</th>\n",
       "      <td>New Zealand</td>\n",
       "      <td>0.848518</td>\n",
       "      <td>1.909166</td>\n",
       "      <td>1.060648</td>\n",
       "      <td>3.818332</td>\n",
       "    </tr>\n",
       "    <tr>\n",
       "      <th>6</th>\n",
       "      <td>Hungary</td>\n",
       "      <td>0.815160</td>\n",
       "      <td>0.305685</td>\n",
       "      <td>0.407580</td>\n",
       "      <td>1.528425</td>\n",
       "    </tr>\n",
       "    <tr>\n",
       "      <th>7</th>\n",
       "      <td>Bahrain</td>\n",
       "      <td>0.709390</td>\n",
       "      <td>0.709390</td>\n",
       "      <td>0.000000</td>\n",
       "      <td>1.418781</td>\n",
       "    </tr>\n",
       "    <tr>\n",
       "      <th>8</th>\n",
       "      <td>Kosovo</td>\n",
       "      <td>0.562570</td>\n",
       "      <td>0.000000</td>\n",
       "      <td>0.000000</td>\n",
       "      <td>0.562570</td>\n",
       "    </tr>\n",
       "    <tr>\n",
       "      <th>9</th>\n",
       "      <td>Georgia</td>\n",
       "      <td>0.536552</td>\n",
       "      <td>0.268276</td>\n",
       "      <td>1.073104</td>\n",
       "      <td>1.877932</td>\n",
       "    </tr>\n",
       "    <tr>\n",
       "      <th>10</th>\n",
       "      <td>Slovenia</td>\n",
       "      <td>0.484252</td>\n",
       "      <td>0.968503</td>\n",
       "      <td>0.484252</td>\n",
       "      <td>1.937007</td>\n",
       "    </tr>\n",
       "  </tbody>\n",
       "</table>\n",
       "</div>"
      ],
      "text/plain": [
       "              NOC  Gold_per_Million  Silver_per_Million  Bronze_per_Million  \\\n",
       "Rank                                                                          \n",
       "1     The Bahamas          2.525406            0.000000            2.525406   \n",
       "2         Jamaica          2.140797            1.070398            0.713599   \n",
       "3         Croatia          1.197792            0.718675            0.479117   \n",
       "4            Fiji          1.088885            0.000000            0.000000   \n",
       "5     New Zealand          0.848518            1.909166            1.060648   \n",
       "6         Hungary          0.815160            0.305685            0.407580   \n",
       "7         Bahrain          0.709390            0.709390            0.000000   \n",
       "8          Kosovo          0.562570            0.000000            0.000000   \n",
       "9         Georgia          0.536552            0.268276            1.073104   \n",
       "10       Slovenia          0.484252            0.968503            0.484252   \n",
       "\n",
       "      Total_per_Million  \n",
       "Rank                     \n",
       "1              5.050811  \n",
       "2              3.924794  \n",
       "3              2.395583  \n",
       "4              1.088885  \n",
       "5              3.818332  \n",
       "6              1.528425  \n",
       "7              1.418781  \n",
       "8              0.562570  \n",
       "9              1.877932  \n",
       "10             1.937007  "
      ]
     },
     "execution_count": 314,
     "metadata": {},
     "output_type": "execute_result"
    }
   ],
   "source": [
    "##I downloaded the \"countries_population_2016.csv\" dataset from a link(World Bank API Indicators) that I found\n",
    "##by digging Worldbank API documentation link that has been provided in task1.pdf. And, I added \n",
    "##the new link I found under the References section of the content. I also loaded the data set I dwonloaded\n",
    "##into the zip file that I uploaded to Moodle.\n",
    "population_data = pd.read_csv(\"countries_population_2016.csv\")\n",
    "\n",
    "team_events = summer_2016_rio.groupby(['sport', 'discipline'])['team'].count().reset_index()\n",
    "team_events = team_events[team_events['team'] > 1]\n",
    "total_medals = summer_2016_rio[~summer_2016_rio.duplicated(subset=['country', 'sport', 'discipline', 'medal'], keep='first')]\n",
    "medals_by_country = total_medals.groupby(\"country\")[\"medal\"].value_counts().unstack(fill_value=0)\n",
    "\n",
    "medals_per_capita = pd.merge(left=medals_by_country, right=population_data, left_on= ['country'], right_on=[\"Country Name\"], how=\"inner\")\n",
    "\n",
    "medals_per_capita[\"2016 [YR2016]\"] = medals_per_capita[\"2016 [YR2016]\"].astype(float)\n",
    "\n",
    "medals_per_capita[\"Gold_per_Million\"] = (medals_per_capita[\"Gold\"] / medals_per_capita[\"2016 [YR2016]\"]) * 1000000\n",
    "medals_per_capita[\"Silver_per_Million\"] = (medals_per_capita[\"Silver\"] / medals_per_capita[\"2016 [YR2016]\"]) * 1000000\n",
    "medals_per_capita[\"Bronze_per_Million\"] = (medals_per_capita[\"Bronze\"] / medals_per_capita[\"2016 [YR2016]\"]) * 1000000\n",
    "\n",
    "medals_per_capita[\"Total_per_Million\"] = (medals_per_capita[\"Gold_per_Million\"]+ medals_per_capita[\"Silver_per_Million\"]+ medals_per_capita[\"Bronze_per_Million\"])\n",
    "print(\"The New Medal Table for the Summer Olympic Games 2016 in Rio de Janeiro:\")\n",
    "\n",
    "final_medal_table = medals_per_capita.sort_values(['Gold_per_Million', 'Silver_per_Million', 'Bronze_per_Million'], ascending= False).head(10)\n",
    "final_medal_table[\"Rank\"] = range(1, len(final_medal_table) + 1)\n",
    "final_medal_table.set_index(\"Rank\",inplace=True)\n",
    "final_medal_table.drop(columns=[\"Bronze\", \"Silver\", \"Gold\", \"Country Code\",\"Series Name\", \"Series Code\", \"2016 [YR2016]\"], inplace=True)\n",
    "final_medal_table.rename(columns={'Country Name': 'NOC'}, inplace=True)\n",
    "final_medal_table"
   ]
  }
 ],
 "metadata": {
  "kernelspec": {
   "display_name": "envTPDSWiSe23",
   "language": "python",
   "name": "python3"
  },
  "language_info": {
   "codemirror_mode": {
    "name": "ipython",
    "version": 3
   },
   "file_extension": ".py",
   "mimetype": "text/x-python",
   "name": "python",
   "nbconvert_exporter": "python",
   "pygments_lexer": "ipython3",
   "version": "3.11.5"
  }
 },
 "nbformat": 4,
 "nbformat_minor": 2
}
